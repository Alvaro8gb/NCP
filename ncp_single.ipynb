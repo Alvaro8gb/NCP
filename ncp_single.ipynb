{
 "cells": [
  {
   "cell_type": "code",
   "execution_count": 3,
   "metadata": {},
   "outputs": [],
   "source": [
    "import spacy\n",
    "import json\n",
    "from pre import preprocesing as pre\n",
    "from post import Struct\n",
    "\n",
    "__MODEL_PATH = \"models/mama-ents\"\n",
    "__LABELS = spacy.info(__MODEL_PATH)[\"labels\"][\"ner\"]\n"
   ]
  },
  {
   "cell_type": "code",
   "execution_count": 6,
   "metadata": {},
   "outputs": [],
   "source": [
    "def process_note(text, ehr):\n",
    "    debug = \"texto sin procesar: \" + text + \"\\n\\n\"\n",
    "\n",
    "    # preprocesar el texto:\n",
    "    p = pre.Preprocesing(\"pre/acronimos.json\")\n",
    "    text = p.fix(text)\n",
    "    debug += \"texto preprocesado: \" + text + \"\\n\\n\"\n",
    "\n",
    "    # pasar el texto preprocesado al modelo y obtener las entidades que ha detectado:\n",
    "    nlp = spacy.load(__MODEL_PATH)\n",
    "    doc = nlp(text)\n",
    "    debug += \"entidades encontradas: \" + \"\\n\"\n",
    "\n",
    "    for ent in doc.ents:\n",
    "        debug += \"- \" + ent.label_ + \": \" + ent.text + \"\\n\"\n",
    "    debug += \"\\n\\n\"\n",
    "\n",
    "    # sacar los diagnosticos:\n",
    "    strc = Struct.Struct(__LABELS)\n",
    "    ents = doc.ents\n",
    "    diags = strc.struct(text=text, ents=ents)\n",
    "\n",
    "    if len(diags) > 0:\n",
    "        ehr_info = { \"ehr\": ehr, \"diags\": diags}\n",
    "    else:\n",
    "        labels = [ent.label_ for ent in ents]\n",
    "        ehr_info = { \"ehr\": ehr, \"ents\": str(ents), \"labels\":labels, \"text\": text}\n",
    "\n",
    "    print(debug)\n",
    "\n",
    "    return json.dumps(ehr_info, indent=4)"
   ]
  },
  {
   "cell_type": "code",
   "execution_count": 10,
   "metadata": {},
   "outputs": [
    {
     "name": "stderr",
     "output_type": "stream",
     "text": [
      "/home/alvaro/Desktop/NLP/ncp/venv/lib/python3.8/site-packages/spacy/util.py:837: UserWarning: [W095] Model 'es_pipeline' (0.0.0) was trained with spaCy v3.3 and may not be 100% compatible with the current version (3.3.0). If you see errors or degraded performance, download a newer compatible model or retrain your custom model with the current spaCy version. For more details and available updates, run: python -m spacy validate\n",
      "  warnings.warn(warn_msg)\n"
     ]
    },
    {
     "name": "stdout",
     "output_type": "stream",
     "text": [
      "texto sin procesar: anemia a estudio.\n",
      " carcinoma ductal infiltrante t4 n3 m1 ( afectacion supraclavicular bilateral).\n",
      "\n",
      "texto preprocesado: anemia a estudio.\n",
      " carcinoma ductal infiltrante t4 n3 m1 ( afectacion supraclavicular bilateral).\n",
      "\n",
      "entidades encontradas: \n",
      "- CANCER_CONCEPT: carcinoma\n",
      "- CANCER_TYPE: ductal\n",
      "- CANCER_EXP: infiltrante\n",
      "- TNM: t4 n3 m1\n",
      "- CANCER_MET: afectacion\n",
      "- CANCER_LOC: supraclavicular\n",
      "- CANCER_LOC: bilateral\n",
      "\n",
      "\n",
      "\n"
     ]
    }
   ],
   "source": [
    "\n",
    "text = \"\"\"anemia a estudio.\n",
    " carcinoma ductal infiltrante t4 n3 m1 ( afectacion supraclavicular bilateral).\"\"\"\n",
    "\n",
    "ehr = \"xxx\"\n",
    "\n",
    "result = process_note(text, ehr)"
   ]
  },
  {
   "cell_type": "code",
   "execution_count": 9,
   "metadata": {},
   "outputs": [
    {
     "name": "stdout",
     "output_type": "stream",
     "text": [
      "{\n",
      "    \"ehr\": \"xxx\",\n",
      "    \"diags\": [\n",
      "        {\n",
      "            \"CANCER_CONCEPT\": [\n",
      "                \"carcinoma\"\n",
      "            ],\n",
      "            \"CANCER_TYPE\": [\n",
      "                \"ductal\"\n",
      "            ],\n",
      "            \"CANCER_EXP\": [\n",
      "                \"infiltrante\"\n",
      "            ],\n",
      "            \"TNM\": [\n",
      "                \"t4 n3 m1\"\n",
      "            ],\n",
      "            \"CANCER_MET\": [\n",
      "                \"afectacion\"\n",
      "            ],\n",
      "            \"CANCER_LOC\": [\n",
      "                \"supraclavicular\",\n",
      "                \"bilateral\"\n",
      "            ],\n",
      "            \"text\": \"anemia a estudio.\\n carcinoma ductal infiltrante t4 n3 m1 ( afectacion supraclavicular bilateral\"\n",
      "        }\n",
      "    ]\n",
      "}\n"
     ]
    }
   ],
   "source": [
    "print(result)"
   ]
  }
 ],
 "metadata": {
  "kernelspec": {
   "display_name": "venv",
   "language": "python",
   "name": "python3"
  },
  "language_info": {
   "codemirror_mode": {
    "name": "ipython",
    "version": 3
   },
   "file_extension": ".py",
   "mimetype": "text/x-python",
   "name": "python",
   "nbconvert_exporter": "python",
   "pygments_lexer": "ipython3",
   "version": "3.8.10 (default, Nov 14 2022, 12:59:47) \n[GCC 9.4.0]"
  },
  "orig_nbformat": 4,
  "vscode": {
   "interpreter": {
    "hash": "c7ef75c0fa8a03a5b4721facc73fa66e76084f9f440b852caab132498beea522"
   }
  }
 },
 "nbformat": 4,
 "nbformat_minor": 2
}
