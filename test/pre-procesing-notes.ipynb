{
 "cells": [
  {
   "cell_type": "markdown",
   "metadata": {},
   "source": [
    "# Preprocesamiento de las notas de mama"
   ]
  },
  {
   "cell_type": "code",
   "execution_count": 2,
   "metadata": {},
   "outputs": [],
   "source": [
    "import csv\n",
    "\n",
    "\n",
    "texts = []\n",
    "with open(\"Notes/VALID_clasification_annotate.csv\") as csvfile:\n",
    "      reader = csv.reader(csvfile, delimiter=';', quoting = csv.QUOTE_ALL)\n",
    "      cols = reader.__next__() #omitimos los nombres de las columnas\n",
    "\n",
    "      index_id = cols.index(\"id_note\")\n",
    "      index_note = cols.index(\"note\")\n",
    "      texts = [ row[index_note] for row in reader]\n",
    "\n"
   ]
  },
  {
   "cell_type": "code",
   "execution_count": 69,
   "metadata": {},
   "outputs": [
    {
     "name": "stdout",
     "output_type": "stream",
     "text": [
      "      Hola me      llamo                 alvaro \n",
      "\n",
      "\n",
      "- primero \n",
      "- segundo \n",
      "\n",
      " -------------------- \n",
      "\n",
      "Hola me llamo alvaro \n",
      "- primero \n",
      "- segundo\n"
     ]
    }
   ],
   "source": [
    "from textacy.preprocessing import normalize as normalize\n",
    "\n",
    "sample = \"\"\"      Hola me      llamo                 alvaro \\n\\n\\n- primero \\n- segundo \"\"\"\n",
    "\n",
    "sample_pre_process = normalize.whitespace(sample)\n",
    "sample_pre_process = normalize.hyphenated_words(sample_pre_process)\n",
    "\n",
    "print(sample)\n",
    "print(\"\\n\",\"-\"*20,\"\\n\")\n",
    "print(sample_pre_process)\n"
   ]
  },
  {
   "cell_type": "code",
   "execution_count": 2,
   "metadata": {},
   "outputs": [
    {
     "data": {
      "text/plain": [
       "'cm0, estadio'"
      ]
     },
     "execution_count": 2,
     "metadata": {},
     "output_type": "execute_result"
    }
   ],
   "source": [
    "from Preprocesing import Preprocesing\n",
    "preprocesing = Preprocesing(\"acronimos.json\")\n",
    "\n",
    "text = \"cm0,estadio\"\n",
    "preprocesing.fix(text)\n",
    "\n",
    "\n"
   ]
  },
  {
   "cell_type": "markdown",
   "metadata": {},
   "source": [
    "# Normalizar fechas "
   ]
  },
  {
   "cell_type": "code",
   "execution_count": 5,
   "metadata": {},
   "outputs": [
    {
     "name": "stdout",
     "output_type": "stream",
     "text": [
      "2015-05-29\n"
     ]
    }
   ],
   "source": [
    "\n",
    "import re \n",
    "\n",
    "fecha = \"2015.05.29\"\n",
    "\n",
    "# aaaa-mm-dd dd-mm-aaaa d-m-aaaa d-m-aa\n",
    "print(re.sub( r\"([0-9]{1,4})/.([0-9]{1,2})/.([0-9]{2,4})\", r\"\\1-\\2-\\3\", fecha) )\n",
    "\n"
   ]
  },
  {
   "cell_type": "markdown",
   "metadata": {},
   "source": [
    "# Normalizar molec marker"
   ]
  },
  {
   "cell_type": "code",
   "execution_count": 12,
   "metadata": {},
   "outputs": [
    {
     "name": "stdout",
     "output_type": "stream",
     "text": [
      "re+ / rp- / her2- / ki67 20%\n"
     ]
    }
   ],
   "source": [
    "\n",
    "import re \n",
    "\n",
    "molec_marker = \"re+/rp-/her2-/ki67 20%\"\n",
    "\n",
    "print(re.sub( r\"([\\+\\-])(/)([a-z])\", r\"\\1 \\2 \\3\", molec_marker) )"
   ]
  },
  {
   "cell_type": "markdown",
   "metadata": {},
   "source": [
    "# Pruebas"
   ]
  },
  {
   "cell_type": "code",
   "execution_count": 3,
   "metadata": {},
   "outputs": [
    {
     "name": "stdout",
     "output_type": "stream",
     "text": [
      "-ostopatia\n"
     ]
    }
   ],
   "source": [
    "import re\n",
    "\n",
    "\n",
    "\n",
    "matcth = re.search(r\"(-)([a-z]+)\",\"tn3-ostopatia\")\n",
    "#matcth = re.search(r\"cancer$\",\"cancer\"\")\n",
    "\n",
    "print(matcth.group())\n",
    "\n",
    "\n",
    "#print(\"ca. boca. \".replace(\"ca.\",\"ca\"))\n"
   ]
  },
  {
   "cell_type": "markdown",
   "metadata": {},
   "source": [
    "# Ver palabras mal escritas\n",
    "---\n",
    "## Conseguir lista de palabras"
   ]
  },
  {
   "cell_type": "code",
   "execution_count": 59,
   "metadata": {},
   "outputs": [],
   "source": [
    "from spacy.lang.es import Spanish\n",
    "from textacy.preprocessing import remove as remove\n",
    "\n",
    "list_words = []\n",
    "nlp = Spanish()\n",
    "tokenizer = nlp.tokenizer\n",
    "\n",
    "for text in texts[0:4]:\n",
    "    text = normalize.whitespace(remove.brackets(remove.punctuation(text)))\n",
    "    for token in tokenizer(text):\n",
    "        list_words.append(token)"
   ]
  },
  {
   "cell_type": "markdown",
   "metadata": {},
   "source": [
    "## Cargar diccionario"
   ]
  },
  {
   "cell_type": "code",
   "execution_count": 57,
   "metadata": {},
   "outputs": [
    {
     "data": {
      "text/plain": [
       "True"
      ]
     },
     "execution_count": 57,
     "metadata": {},
     "output_type": "execute_result"
    }
   ],
   "source": [
    "__PATH_DIC = \"/home/alvaro/Documents/Palabras de la RAE/_1ALL.txt\"\n",
    "\n",
    "with open(__PATH_DIC) as f :\n",
    "    lines = f.readlines()\n",
    "\n",
    "lines_cleaned = [   line.split(\",\")[0].strip() for line in lines ]\n",
    " \n",
    "\n",
    "dic_es = set(lines_cleaned)\n",
    "\n"
   ]
  },
  {
   "cell_type": "markdown",
   "metadata": {},
   "source": [
    "## Ver si una lista de palabras estan en el español , sino volcarlas"
   ]
  },
  {
   "cell_type": "code",
   "execution_count": 63,
   "metadata": {},
   "outputs": [
    {
     "name": "stdout",
     "output_type": "stream",
     "text": [
      "197\n",
      "componente\n",
      "cronicos\n",
      "ganglionar\n",
      "ady\n",
      "intraductal\n",
      "holocraneal\n",
      "interna\n",
      "origen\n",
      "hemihemisferectomia\n",
      "octubre\n",
      "craniotomia\n",
      "trastornos\n",
      "29\n",
      "tres\n",
      "izquierda\n",
      "mediante\n",
      "moderada\n",
      "20\n",
      "iv\n",
      "se\n",
      "respuesta\n",
      "grado\n",
      "rt\n",
      "cutanea\n",
      "21\n",
      "el\n",
      "15\n",
      "morficos\n",
      "vomitos\n",
      "infiltrante\n",
      "a\n",
      "lenta\n",
      "oseas\n",
      "80\n",
      "supratentoriales\n",
      "linfovascular\n",
      "infiltracion\n",
      "otras\n",
      "disnea\n",
      "m0\n",
      "rp\n",
      "parietal\n",
      "28\n",
      "carcinoma\n",
      "esplenica\n",
      "estadio\n",
      "margenes\n",
      "fiebre\n",
      "pulmon\n",
      "mastectomia\n",
      "cm0\n",
      "milimetro\n",
      "mama\n",
      "pt2\n",
      "mamaria\n",
      "sin\n",
      "hipercalcemia\n",
      "lobulillar\n",
      "cerebrales\n",
      "05\n",
      "negativo\n",
      ">\n",
      "mayo\n",
      "desde\n",
      "neoady\n",
      "al\n",
      "y\n",
      "astenia\n",
      "ait\n",
      "posterior\n",
      "intolerancia\n",
      "alcalosis\n",
      "radioterapia\n",
      "tumoral\n",
      "oral\n",
      "hueso\n",
      "mal\n",
      "tamano\n",
      "noviembre\n",
      "n0\n",
      "actual\n",
      "02\n",
      "base\n",
      "rm\n",
      "asociado\n",
      "csi\n",
      "osea\n",
      "inferior\n",
      "anemia\n",
      "cm\n",
      "mediana\n",
      "4o\n",
      "2013\n",
      "x\n",
      "ia\n",
      "rpg100\n",
      "4\n",
      "lesiones\n",
      "18\n",
      "bcl\n",
      "ciclos\n",
      "5\n",
      "2015\n",
      "foco\n",
      "1\n",
      "13\n",
      "3\n",
      "quirurgico\n",
      "cerebelosa\n",
      "relacion\n",
      "inespecifico\n",
      "ampliacion\n",
      "suboccipital\n",
      "re100\n",
      "ki67\n",
      "her2\n",
      "27\n",
      "respiratoria\n",
      "g3\n",
      "tto\n",
      "triple\n",
      "progresion\n",
      "01\n",
      "8\n",
      "en\n",
      "objetivan\n",
      "8a\n",
      "ac\n",
      "taxotere\n",
      "ujcc\n",
      "tratamiento\n",
      "ypt1cn1a\n",
      "\n",
      "\n",
      "secundaria\n",
      "mujer\n",
      "pulmonar\n",
      "multiples\n",
      "p53\n",
      "libre\n",
      "probable\n",
      "hepaticas\n",
      "enfermedad\n",
      "10\n",
      "perineural\n",
      "derecha\n",
      "re\n",
      "edicion\n",
      "pleural\n",
      "premenopausica\n",
      "agosto\n",
      "pt1b\n",
      "metastasis\n",
      "50\n",
      "postquirurgico\n",
      "40\n",
      "2\n",
      "7\n",
      "gc\n",
      "lineas\n",
      "g+\n",
      "snc\n",
      "definitivo\n",
      "mucositis\n",
      "positivo\n",
      "+\n",
      "07\n",
      "dolor\n",
      "del\n",
      "con\n",
      "e\n",
      "dudosa\n",
      "clinica\n",
      "afectacion\n",
      "hepatica\n",
      "cuadrantectomia\n",
      "ductal\n",
      "\n",
      " \n",
      "ca\n",
      "tnm\n",
      "ni\n",
      "ki\n",
      "g1\n",
      "pn0\n",
      "positivos\n",
      "borde\n",
      "parcial\n",
      "12\n",
      "muntifocal\n",
      "pleura\n",
      "vinorelbina\n",
      "de\n",
      "tratada\n",
      "linfadenectomia\n",
      "70\n",
      "caquexia\n",
      "ciclo\n",
      "control\n"
     ]
    }
   ],
   "source": [
    "words_out = []\n",
    "\n",
    "for word in list_words:\n",
    "    if word not in dic_es:\n",
    "        words_out.append(str(word))\n",
    "\n",
    "words_out = set(words_out)\n",
    "print(len(words_out))\n",
    "\n",
    "for word in words_out:\n",
    "   print(word)"
   ]
  }
 ],
 "metadata": {
  "kernelspec": {
   "display_name": "venv",
   "language": "python",
   "name": "python3"
  },
  "language_info": {
   "codemirror_mode": {
    "name": "ipython",
    "version": 3
   },
   "file_extension": ".py",
   "mimetype": "text/x-python",
   "name": "python",
   "nbconvert_exporter": "python",
   "pygments_lexer": "ipython3",
   "version": "3.8.10 (default, Nov 14 2022, 12:59:47) \n[GCC 9.4.0]"
  },
  "orig_nbformat": 4,
  "vscode": {
   "interpreter": {
    "hash": "c7ef75c0fa8a03a5b4721facc73fa66e76084f9f440b852caab132498beea522"
   }
  }
 },
 "nbformat": 4,
 "nbformat_minor": 2
}
